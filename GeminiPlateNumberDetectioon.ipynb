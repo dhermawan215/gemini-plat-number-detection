{
  "nbformat": 4,
  "nbformat_minor": 0,
  "metadata": {
    "colab": {
      "provenance": [],
      "authorship_tag": "ABX9TyNobfDxEWfgmuPAq9ovT3Xx",
      "include_colab_link": true
    },
    "kernelspec": {
      "name": "python3",
      "display_name": "Python 3"
    },
    "language_info": {
      "name": "python"
    }
  },
  "cells": [
    {
      "cell_type": "markdown",
      "metadata": {
        "id": "view-in-github",
        "colab_type": "text"
      },
      "source": [
        "<a href=\"https://colab.research.google.com/github/dhermawan215/gemini-plat-number-detection/blob/main/GeminiPlateNumberDetectioon.ipynb\" target=\"_parent\"><img src=\"https://colab.research.google.com/assets/colab-badge.svg\" alt=\"Open In Colab\"/></a>"
      ]
    },
    {
      "cell_type": "code",
      "execution_count": 1,
      "metadata": {
        "id": "1NR_ErZGijVP"
      },
      "outputs": [],
      "source": [
        "!pip install -q -U google-generativeai"
      ]
    },
    {
      "cell_type": "code",
      "source": [
        "import google.generativeai as genai\n",
        "from IPython.display import Markdown"
      ],
      "metadata": {
        "id": "bzyC7-5gkMhW"
      },
      "execution_count": 2,
      "outputs": []
    },
    {
      "cell_type": "code",
      "source": [
        "from google.colab import userdata\n",
        "GOOGLE_API_KEY=userdata.get('GOOGLE_API_KEY')\n",
        "\n",
        "genai.configure(api_key=GOOGLE_API_KEY)"
      ],
      "metadata": {
        "id": "Yp2JMU4YUY_u"
      },
      "execution_count": 3,
      "outputs": []
    },
    {
      "cell_type": "code",
      "source": [
        "import PIL.Image\n"
      ],
      "metadata": {
        "id": "02hzMLe2Um1L"
      },
      "execution_count": 22,
      "outputs": []
    },
    {
      "cell_type": "code",
      "source": [
        "import google.generativeai as genai\n",
        "# sample_file = PIL.Image.open('sample-1.png')\n",
        "# sample_file = PIL.Image.open('sample-2.png')\n",
        "# sample_file = PIL.Image.open('sample-3.png')\n",
        "sample_file = PIL.Image.open('sample-4.png')\n",
        "# sample_file = PIL.Image.open('sample-5.png')\n",
        "# sample_file = PIL.Image.open('sample-6.png')\n",
        "\n",
        "\n",
        "# Choose a Gemini model.\n",
        "model = genai.GenerativeModel(model_name=\"gemini-1.5-pro-latest\")\n",
        "\n",
        "# Create a prompt.\n",
        "prompt = \"read the plate number of the image with the output example {'plat_no': 'B 1234 FDS', 'vehicle':'car','vehicle_type':'MPV','color': 'Black', 'gate_open': 'N/A','gate_closed':'N/A'}\"\n",
        "\n",
        "response = model.generate_content([sample_file, prompt])\n",
        "\n",
        "\n",
        "Markdown(response.text)"
      ],
      "metadata": {
        "colab": {
          "base_uri": "https://localhost:8080/",
          "height": 34
        },
        "id": "saVMberDUpKH",
        "outputId": "bd675202-7c5e-485b-b69f-4ebefa858c9c"
      },
      "execution_count": 31,
      "outputs": [
        {
          "output_type": "execute_result",
          "data": {
            "text/plain": [
              "<IPython.core.display.Markdown object>"
            ],
            "text/markdown": "```json\n{'plat_no': 'AB 1013 MI', 'vehicle':'car','vehicle_type':'MPV','color': 'White', 'gate_open': 'N/A','gate_closed':'N/A'}\n```"
          },
          "metadata": {},
          "execution_count": 31
        }
      ]
    },
    {
      "cell_type": "code",
      "source": [
        "import google.generativeai as genai\n",
        "# sample_file = PIL.Image.open('sample-1.png')\n",
        "# sample_file = PIL.Image.open('sample-2.png')\n",
        "sample_file = PIL.Image.open('sample-3.png')\n",
        "# sample_file = PIL.Image.open('sample-4.png')\n",
        "# sample_file = PIL.Image.open('sample-5.png')\n",
        "# sample_file = PIL.Image.open('sample-6.png')\n",
        "\n",
        "\n",
        "# Choose a Gemini model.\n",
        "model = genai.GenerativeModel(model_name=\"gemini-1.5-pro-latest\")\n",
        "\n",
        "# Create a prompt.\n",
        "prompt = \"read the plate number of the image with the output example {'plat_no': 'B 1234 FDS', 'vehicle':'car','vehicle_type':'MPV','color': 'Black', 'gate_open': 'N/A','gate_closed':'N/A'}\"\n",
        "\n",
        "response = model.generate_content([sample_file, prompt])\n",
        "\n",
        "\n",
        "Markdown(response.text)"
      ],
      "metadata": {
        "colab": {
          "base_uri": "https://localhost:8080/",
          "height": 34
        },
        "id": "v84lrg2Pc_9-",
        "outputId": "9a063648-496a-418c-ea4c-4567cf356775"
      },
      "execution_count": 33,
      "outputs": [
        {
          "output_type": "execute_result",
          "data": {
            "text/plain": [
              "<IPython.core.display.Markdown object>"
            ],
            "text/markdown": "```json\n{'plat_no': 'AB 1668 AF', 'vehicle':'car','vehicle_type':'SUV','color': 'White', 'gate_open': 'N/A','gate_closed':'N/A'}\n```"
          },
          "metadata": {},
          "execution_count": 33
        }
      ]
    },
    {
      "cell_type": "code",
      "source": [
        "import google.generativeai as genai\n",
        "# sample_file = PIL.Image.open('sample-1.png')\n",
        "sample_file = PIL.Image.open('sample-2.png')\n",
        "# sample_file = PIL.Image.open('sample-3.png')\n",
        "# sample_file = PIL.Image.open('sample-4.png')\n",
        "# sample_file = PIL.Image.open('sample-5.png')\n",
        "# sample_file = PIL.Image.open('sample-6.png')\n",
        "\n",
        "\n",
        "# Choose a Gemini model.\n",
        "model = genai.GenerativeModel(model_name=\"gemini-1.5-pro-latest\")\n",
        "\n",
        "# Create a prompt.\n",
        "prompt = \"read the plate number of the image with the output example {'plat_no': 'B 1234 FDS', 'vehicle':'car','vehicle_type':'MPV','color': 'Black', 'gate_open': 'N/A','gate_closed':'N/A'}\"\n",
        "\n",
        "response = model.generate_content([sample_file, prompt])\n",
        "\n",
        "\n",
        "Markdown(response.text)"
      ],
      "metadata": {
        "colab": {
          "base_uri": "https://localhost:8080/",
          "height": 34
        },
        "id": "yJDH6AqKdXXB",
        "outputId": "d6a50890-e750-4fcb-82c5-72fd41d06119"
      },
      "execution_count": 34,
      "outputs": [
        {
          "output_type": "execute_result",
          "data": {
            "text/plain": [
              "<IPython.core.display.Markdown object>"
            ],
            "text/markdown": "```json\n{'plat_no': 'AD 1585 AJ', 'vehicle':'car','vehicle_type':'MPV','color': 'white', 'gate_open': 'N/A','gate_closed':'N/A'}\n```"
          },
          "metadata": {},
          "execution_count": 34
        }
      ]
    },
    {
      "cell_type": "code",
      "source": [
        "import google.generativeai as genai\n",
        "sample_file = PIL.Image.open('sample-1.png')\n",
        "# sample_file = PIL.Image.open('sample-2.png')\n",
        "# sample_file = PIL.Image.open('sample-3.png')\n",
        "# sample_file = PIL.Image.open('sample-4.png')\n",
        "# sample_file = PIL.Image.open('sample-5.png')\n",
        "# sample_file = PIL.Image.open('sample-6.png')\n",
        "\n",
        "\n",
        "# Choose a Gemini model.\n",
        "model = genai.GenerativeModel(model_name=\"gemini-1.5-pro-latest\")\n",
        "\n",
        "# Create a prompt.\n",
        "prompt = \"read the plate number of the image with the output example {'plat_no': 'B 1234 FDS', 'vehicle':'car','vehicle_type':'MPV','color': 'Black', 'gate_open': 'N/A','gate_closed':'N/A'}\"\n",
        "\n",
        "response = model.generate_content([sample_file, prompt])\n",
        "\n",
        "\n",
        "Markdown(response.text)"
      ],
      "metadata": {
        "colab": {
          "base_uri": "https://localhost:8080/",
          "height": 34
        },
        "id": "GL9tm9k5dkT9",
        "outputId": "a8ae0013-1fd8-4e6d-c585-23a1d1df57b3"
      },
      "execution_count": 35,
      "outputs": [
        {
          "output_type": "execute_result",
          "data": {
            "text/plain": [
              "<IPython.core.display.Markdown object>"
            ],
            "text/markdown": "```json\n{'plat_no': 'กธ 7622', 'vehicle':'car','vehicle_type':'MPV','color': 'white', 'gate_open': 'N/A','gate_closed':'N/A'}\n```"
          },
          "metadata": {},
          "execution_count": 35
        }
      ]
    },
    {
      "cell_type": "code",
      "source": [
        "import google.generativeai as genai\n",
        "# sample_file = PIL.Image.open('sample-1.png')\n",
        "# sample_file = PIL.Image.open('sample-2.png')\n",
        "# sample_file = PIL.Image.open('sample-3.png')\n",
        "# sample_file = PIL.Image.open('sample-4.png')\n",
        "sample_file = PIL.Image.open('sample-5.png')\n",
        "# sample_file = PIL.Image.open('sample-6.png')\n",
        "\n",
        "\n",
        "# Choose a Gemini model.\n",
        "model = genai.GenerativeModel(model_name=\"gemini-1.5-pro-latest\")\n",
        "\n",
        "# Create a prompt.\n",
        "prompt = \"read the plate number of the image with the output example {'plat_no': 'B 1234 FDS', 'vehicle':'car','vehicle_type':'MPV','color': 'Black', 'gate_open': 'N/A','gate_closed':'N/A'}\"\n",
        "\n",
        "response = model.generate_content([sample_file, prompt])\n",
        "\n",
        "\n",
        "Markdown(response.text)"
      ],
      "metadata": {
        "colab": {
          "base_uri": "https://localhost:8080/",
          "height": 34
        },
        "id": "zko7xs-AdstZ",
        "outputId": "0454dfec-c8b4-43e1-b5e6-9bf56d14e1ea"
      },
      "execution_count": 36,
      "outputs": [
        {
          "output_type": "execute_result",
          "data": {
            "text/plain": [
              "<IPython.core.display.Markdown object>"
            ],
            "text/markdown": "```json\n{'plat_no': 'B 1271 CR', 'vehicle':'car','vehicle_type':'MPV','color': 'Black', 'gate_open': 'N/A','gate_closed':'N/A'}\n```"
          },
          "metadata": {},
          "execution_count": 36
        }
      ]
    },
    {
      "cell_type": "code",
      "source": [
        "import google.generativeai as genai\n",
        "# sample_file = PIL.Image.open('sample-1.png')\n",
        "# sample_file = PIL.Image.open('sample-2.png')\n",
        "# sample_file = PIL.Image.open('sample-3.png')\n",
        "# sample_file = PIL.Image.open('sample-4.png')\n",
        "# sample_file = PIL.Image.open('sample-5.png')\n",
        "sample_file = PIL.Image.open('sample-6.png')\n",
        "\n",
        "\n",
        "# Choose a Gemini model.\n",
        "model = genai.GenerativeModel(model_name=\"gemini-1.5-pro-latest\")\n",
        "\n",
        "# Create a prompt.\n",
        "prompt = \"read the plate number of the image with the output example {'plat_no': 'B 1234 FDS', 'vehicle':'car','vehicle_type':'MPV','color': 'Black', 'gate_open': 'N/A','gate_closed':'N/A'}\"\n",
        "\n",
        "response = model.generate_content([sample_file, prompt])\n",
        "\n",
        "\n",
        "Markdown(response.text)"
      ],
      "metadata": {
        "colab": {
          "base_uri": "https://localhost:8080/",
          "height": 34
        },
        "id": "L6TbyIied0Pn",
        "outputId": "7fb2b366-ac73-43cc-d8cd-0d3bb97c268c"
      },
      "execution_count": 37,
      "outputs": [
        {
          "output_type": "execute_result",
          "data": {
            "text/plain": [
              "<IPython.core.display.Markdown object>"
            ],
            "text/markdown": "```json\n{'plat_no': 'B 1171 IG', 'vehicle':'car','vehicle_type':'MPV','color': 'Black', 'gate_open': 'N/A','gate_closed':'N/A'}\n```"
          },
          "metadata": {},
          "execution_count": 37
        }
      ]
    }
  ]
}